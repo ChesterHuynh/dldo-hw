{
 "cells": [
  {
   "cell_type": "code",
   "execution_count": 1,
   "metadata": {},
   "outputs": [
    {
     "data": {
      "application/javascript": [
       "\n",
       "            setTimeout(function() {\n",
       "                var nbb_cell_id = 1;\n",
       "                var nbb_unformatted_code = \"%load_ext nb_black\";\n",
       "                var nbb_formatted_code = \"%load_ext nb_black\";\n",
       "                var nbb_cells = Jupyter.notebook.get_cells();\n",
       "                for (var i = 0; i < nbb_cells.length; ++i) {\n",
       "                    if (nbb_cells[i].input_prompt_number == nbb_cell_id) {\n",
       "                        if (nbb_cells[i].get_text() == nbb_unformatted_code) {\n",
       "                             nbb_cells[i].set_text(nbb_formatted_code);\n",
       "                        }\n",
       "                        break;\n",
       "                    }\n",
       "                }\n",
       "            }, 500);\n",
       "            "
      ],
      "text/plain": [
       "<IPython.core.display.Javascript object>"
      ]
     },
     "metadata": {},
     "output_type": "display_data"
    }
   ],
   "source": [
    "%load_ext nb_black"
   ]
  },
  {
   "cell_type": "code",
   "execution_count": 2,
   "metadata": {},
   "outputs": [
    {
     "data": {
      "application/javascript": [
       "\n",
       "            setTimeout(function() {\n",
       "                var nbb_cell_id = 2;\n",
       "                var nbb_unformatted_code = \"from itertools import combinations\\n\\nimport gurobipy as gp\\nimport numpy as np\\nfrom gurobipy import GRB\\nfrom scipy.spatial.distance import squareform\";\n",
       "                var nbb_formatted_code = \"from itertools import combinations\\n\\nimport gurobipy as gp\\nimport numpy as np\\nfrom gurobipy import GRB\\nfrom scipy.spatial.distance import squareform\";\n",
       "                var nbb_cells = Jupyter.notebook.get_cells();\n",
       "                for (var i = 0; i < nbb_cells.length; ++i) {\n",
       "                    if (nbb_cells[i].input_prompt_number == nbb_cell_id) {\n",
       "                        if (nbb_cells[i].get_text() == nbb_unformatted_code) {\n",
       "                             nbb_cells[i].set_text(nbb_formatted_code);\n",
       "                        }\n",
       "                        break;\n",
       "                    }\n",
       "                }\n",
       "            }, 500);\n",
       "            "
      ],
      "text/plain": [
       "<IPython.core.display.Javascript object>"
      ]
     },
     "metadata": {},
     "output_type": "display_data"
    }
   ],
   "source": [
    "from itertools import combinations\n",
    "\n",
    "import gurobipy as gp\n",
    "import numpy as np\n",
    "from gurobipy import GRB\n",
    "from scipy.spatial.distance import squareform"
   ]
  },
  {
   "cell_type": "markdown",
   "metadata": {},
   "source": [
    "## Helper functions"
   ]
  },
  {
   "cell_type": "code",
   "execution_count": 3,
   "metadata": {},
   "outputs": [
    {
     "data": {
      "application/javascript": [
       "\n",
       "            setTimeout(function() {\n",
       "                var nbb_cell_id = 3;\n",
       "                var nbb_unformatted_code = \"def subtourelim(model, where):\\n    \\\"\\\"\\\"\\n    Callback function. Use lazy constraints to eliminate subtours.\\n    \\\"\\\"\\\"\\n    if where == GRB.Callback.MIPSOL:\\n\\n        # Make a list of edges selected in the solution\\n        vals = model.cbGetSolution(model._vars)\\n        selected = gp.tuplelist(\\n            (i, j) for i, j in model._vars.keys() if vals[i, j] > 0.5\\n        )\\n\\n        # Find the shortest cycle in the selected edge list\\n        tour = subtour(selected)\\n        if len(tour) < n:\\n            # Add subtour elimination constraints for every pair of cities in tour\\n            model.cbLazy(\\n                gp.quicksum(model._vars[i, j] for i, j in combinations(tour, 2))\\n                <= len(tour) - 1\\n            )\";\n",
       "                var nbb_formatted_code = \"def subtourelim(model, where):\\n    \\\"\\\"\\\"\\n    Callback function. Use lazy constraints to eliminate subtours.\\n    \\\"\\\"\\\"\\n    if where == GRB.Callback.MIPSOL:\\n\\n        # Make a list of edges selected in the solution\\n        vals = model.cbGetSolution(model._vars)\\n        selected = gp.tuplelist(\\n            (i, j) for i, j in model._vars.keys() if vals[i, j] > 0.5\\n        )\\n\\n        # Find the shortest cycle in the selected edge list\\n        tour = subtour(selected)\\n        if len(tour) < n:\\n            # Add subtour elimination constraints for every pair of cities in tour\\n            model.cbLazy(\\n                gp.quicksum(model._vars[i, j] for i, j in combinations(tour, 2))\\n                <= len(tour) - 1\\n            )\";\n",
       "                var nbb_cells = Jupyter.notebook.get_cells();\n",
       "                for (var i = 0; i < nbb_cells.length; ++i) {\n",
       "                    if (nbb_cells[i].input_prompt_number == nbb_cell_id) {\n",
       "                        if (nbb_cells[i].get_text() == nbb_unformatted_code) {\n",
       "                             nbb_cells[i].set_text(nbb_formatted_code);\n",
       "                        }\n",
       "                        break;\n",
       "                    }\n",
       "                }\n",
       "            }, 500);\n",
       "            "
      ],
      "text/plain": [
       "<IPython.core.display.Javascript object>"
      ]
     },
     "metadata": {},
     "output_type": "display_data"
    }
   ],
   "source": [
    "def subtourelim(model, where):\n",
    "    \"\"\"\n",
    "    Callback function. Use lazy constraints to eliminate subtours.\n",
    "    \"\"\"\n",
    "    if where == GRB.Callback.MIPSOL:\n",
    "\n",
    "        # Make a list of edges selected in the solution\n",
    "        vals = model.cbGetSolution(model._vars)\n",
    "        selected = gp.tuplelist(\n",
    "            (i, j) for i, j in model._vars.keys() if vals[i, j] > 0.5\n",
    "        )\n",
    "\n",
    "        # Find the shortest cycle in the selected edge list\n",
    "        tour = subtour(selected)\n",
    "        if len(tour) < n:\n",
    "            # Add subtour elimination constraints for every pair of cities in tour\n",
    "            model.cbLazy(\n",
    "                gp.quicksum(model._vars[i, j] for i, j in combinations(tour, 2))\n",
    "                <= len(tour) - 1\n",
    "            )"
   ]
  },
  {
   "cell_type": "code",
   "execution_count": 4,
   "metadata": {},
   "outputs": [
    {
     "data": {
      "application/javascript": [
       "\n",
       "            setTimeout(function() {\n",
       "                var nbb_cell_id = 4;\n",
       "                var nbb_unformatted_code = \"def subtour(edges):\\n    \\\"\\\"\\\"\\n    Given a tuplelist of edges, find the shortest subtour\\n    \\\"\\\"\\\"\\n    unvisited = list(range(n))\\n    cycle = range(n + 1)  # initial length has 1 more city\\n    while unvisited:  # true if list is non-empty\\n        thiscycle = []\\n        neighbors = unvisited\\n        while neighbors:\\n            current = neighbors[0]\\n            thiscycle.append(current)\\n            unvisited.remove(current)\\n            neighbors = [j for i, j in edges.select(current, \\\"*\\\") if j in unvisited]\\n        if len(cycle) > len(thiscycle):\\n            cycle = thiscycle\\n    return cycle\";\n",
       "                var nbb_formatted_code = \"def subtour(edges):\\n    \\\"\\\"\\\"\\n    Given a tuplelist of edges, find the shortest subtour\\n    \\\"\\\"\\\"\\n    unvisited = list(range(n))\\n    cycle = range(n + 1)  # initial length has 1 more city\\n    while unvisited:  # true if list is non-empty\\n        thiscycle = []\\n        neighbors = unvisited\\n        while neighbors:\\n            current = neighbors[0]\\n            thiscycle.append(current)\\n            unvisited.remove(current)\\n            neighbors = [j for i, j in edges.select(current, \\\"*\\\") if j in unvisited]\\n        if len(cycle) > len(thiscycle):\\n            cycle = thiscycle\\n    return cycle\";\n",
       "                var nbb_cells = Jupyter.notebook.get_cells();\n",
       "                for (var i = 0; i < nbb_cells.length; ++i) {\n",
       "                    if (nbb_cells[i].input_prompt_number == nbb_cell_id) {\n",
       "                        if (nbb_cells[i].get_text() == nbb_unformatted_code) {\n",
       "                             nbb_cells[i].set_text(nbb_formatted_code);\n",
       "                        }\n",
       "                        break;\n",
       "                    }\n",
       "                }\n",
       "            }, 500);\n",
       "            "
      ],
      "text/plain": [
       "<IPython.core.display.Javascript object>"
      ]
     },
     "metadata": {},
     "output_type": "display_data"
    }
   ],
   "source": [
    "def subtour(edges):\n",
    "    \"\"\"\n",
    "    Given a tuplelist of edges, find the shortest subtour\n",
    "    \"\"\"\n",
    "    unvisited = list(range(n))\n",
    "    cycle = range(n + 1)  # initial length has 1 more city\n",
    "    while unvisited:  # true if list is non-empty\n",
    "        thiscycle = []\n",
    "        neighbors = unvisited\n",
    "        while neighbors:\n",
    "            current = neighbors[0]\n",
    "            thiscycle.append(current)\n",
    "            unvisited.remove(current)\n",
    "            neighbors = [j for i, j in edges.select(current, \"*\") if j in unvisited]\n",
    "        if len(cycle) > len(thiscycle):\n",
    "            cycle = thiscycle\n",
    "    return cycle"
   ]
  },
  {
   "cell_type": "markdown",
   "metadata": {},
   "source": [
    "## Load the data matrix"
   ]
  },
  {
   "cell_type": "code",
   "execution_count": 5,
   "metadata": {},
   "outputs": [
    {
     "data": {
      "application/javascript": [
       "\n",
       "            setTimeout(function() {\n",
       "                var nbb_cell_id = 5;\n",
       "                var nbb_unformatted_code = \"with open(\\\"usa50.txt\\\") as f:\\n    dists = f.read()\\n\\n    # Convert into 1D array\\n    arr = np.fromstring(dists, sep=\\\" \\\")\\n    arr = arr[np.nonzero(arr)]\\n\\n    # Convert to symmetric matrix\\n    mat = squareform(arr)\";\n",
       "                var nbb_formatted_code = \"with open(\\\"usa50.txt\\\") as f:\\n    dists = f.read()\\n\\n    # Convert into 1D array\\n    arr = np.fromstring(dists, sep=\\\" \\\")\\n    arr = arr[np.nonzero(arr)]\\n\\n    # Convert to symmetric matrix\\n    mat = squareform(arr)\";\n",
       "                var nbb_cells = Jupyter.notebook.get_cells();\n",
       "                for (var i = 0; i < nbb_cells.length; ++i) {\n",
       "                    if (nbb_cells[i].input_prompt_number == nbb_cell_id) {\n",
       "                        if (nbb_cells[i].get_text() == nbb_unformatted_code) {\n",
       "                             nbb_cells[i].set_text(nbb_formatted_code);\n",
       "                        }\n",
       "                        break;\n",
       "                    }\n",
       "                }\n",
       "            }, 500);\n",
       "            "
      ],
      "text/plain": [
       "<IPython.core.display.Javascript object>"
      ]
     },
     "metadata": {},
     "output_type": "display_data"
    }
   ],
   "source": [
    "with open(\"usa50.txt\") as f:\n",
    "    dists = f.read()\n",
    "\n",
    "    # Convert into 1D array\n",
    "    arr = np.fromstring(dists, sep=\" \")\n",
    "    arr = arr[np.nonzero(arr)]\n",
    "\n",
    "    # Convert to symmetric matrix\n",
    "    mat = squareform(arr)"
   ]
  },
  {
   "cell_type": "code",
   "execution_count": 6,
   "metadata": {},
   "outputs": [
    {
     "data": {
      "application/javascript": [
       "\n",
       "            setTimeout(function() {\n",
       "                var nbb_cell_id = 6;\n",
       "                var nbb_unformatted_code = \"# Make a dictionary of Euclidean distance between each pair of points\\nn = mat.shape[0]\\ndist = {(i, j): mat[i, j] for i in range(n) for j in range(i)}\";\n",
       "                var nbb_formatted_code = \"# Make a dictionary of Euclidean distance between each pair of points\\nn = mat.shape[0]\\ndist = {(i, j): mat[i, j] for i in range(n) for j in range(i)}\";\n",
       "                var nbb_cells = Jupyter.notebook.get_cells();\n",
       "                for (var i = 0; i < nbb_cells.length; ++i) {\n",
       "                    if (nbb_cells[i].input_prompt_number == nbb_cell_id) {\n",
       "                        if (nbb_cells[i].get_text() == nbb_unformatted_code) {\n",
       "                             nbb_cells[i].set_text(nbb_formatted_code);\n",
       "                        }\n",
       "                        break;\n",
       "                    }\n",
       "                }\n",
       "            }, 500);\n",
       "            "
      ],
      "text/plain": [
       "<IPython.core.display.Javascript object>"
      ]
     },
     "metadata": {},
     "output_type": "display_data"
    }
   ],
   "source": [
    "# Make a dictionary of Euclidean distance between each pair of points\n",
    "n = mat.shape[0]\n",
    "dist = {(i, j): mat[i, j] for i in range(n) for j in range(i)}"
   ]
  },
  {
   "cell_type": "markdown",
   "metadata": {},
   "source": [
    "## Build the model"
   ]
  },
  {
   "cell_type": "code",
   "execution_count": 7,
   "metadata": {},
   "outputs": [
    {
     "name": "stdout",
     "output_type": "stream",
     "text": [
      "Using license file /Users/vivek/gurobi.lic\n",
      "Academic license - for non-commercial use only\n"
     ]
    },
    {
     "data": {
      "text/plain": [
       "{0: <gurobi.Constr *Awaiting Model Update*>,\n",
       " 1: <gurobi.Constr *Awaiting Model Update*>,\n",
       " 2: <gurobi.Constr *Awaiting Model Update*>,\n",
       " 3: <gurobi.Constr *Awaiting Model Update*>,\n",
       " 4: <gurobi.Constr *Awaiting Model Update*>,\n",
       " 5: <gurobi.Constr *Awaiting Model Update*>,\n",
       " 6: <gurobi.Constr *Awaiting Model Update*>,\n",
       " 7: <gurobi.Constr *Awaiting Model Update*>,\n",
       " 8: <gurobi.Constr *Awaiting Model Update*>,\n",
       " 9: <gurobi.Constr *Awaiting Model Update*>,\n",
       " 10: <gurobi.Constr *Awaiting Model Update*>,\n",
       " 11: <gurobi.Constr *Awaiting Model Update*>,\n",
       " 12: <gurobi.Constr *Awaiting Model Update*>,\n",
       " 13: <gurobi.Constr *Awaiting Model Update*>,\n",
       " 14: <gurobi.Constr *Awaiting Model Update*>,\n",
       " 15: <gurobi.Constr *Awaiting Model Update*>,\n",
       " 16: <gurobi.Constr *Awaiting Model Update*>,\n",
       " 17: <gurobi.Constr *Awaiting Model Update*>,\n",
       " 18: <gurobi.Constr *Awaiting Model Update*>,\n",
       " 19: <gurobi.Constr *Awaiting Model Update*>,\n",
       " 20: <gurobi.Constr *Awaiting Model Update*>,\n",
       " 21: <gurobi.Constr *Awaiting Model Update*>,\n",
       " 22: <gurobi.Constr *Awaiting Model Update*>,\n",
       " 23: <gurobi.Constr *Awaiting Model Update*>,\n",
       " 24: <gurobi.Constr *Awaiting Model Update*>,\n",
       " 25: <gurobi.Constr *Awaiting Model Update*>,\n",
       " 26: <gurobi.Constr *Awaiting Model Update*>,\n",
       " 27: <gurobi.Constr *Awaiting Model Update*>,\n",
       " 28: <gurobi.Constr *Awaiting Model Update*>,\n",
       " 29: <gurobi.Constr *Awaiting Model Update*>,\n",
       " 30: <gurobi.Constr *Awaiting Model Update*>,\n",
       " 31: <gurobi.Constr *Awaiting Model Update*>,\n",
       " 32: <gurobi.Constr *Awaiting Model Update*>,\n",
       " 33: <gurobi.Constr *Awaiting Model Update*>,\n",
       " 34: <gurobi.Constr *Awaiting Model Update*>,\n",
       " 35: <gurobi.Constr *Awaiting Model Update*>,\n",
       " 36: <gurobi.Constr *Awaiting Model Update*>,\n",
       " 37: <gurobi.Constr *Awaiting Model Update*>,\n",
       " 38: <gurobi.Constr *Awaiting Model Update*>,\n",
       " 39: <gurobi.Constr *Awaiting Model Update*>,\n",
       " 40: <gurobi.Constr *Awaiting Model Update*>,\n",
       " 41: <gurobi.Constr *Awaiting Model Update*>,\n",
       " 42: <gurobi.Constr *Awaiting Model Update*>,\n",
       " 43: <gurobi.Constr *Awaiting Model Update*>,\n",
       " 44: <gurobi.Constr *Awaiting Model Update*>,\n",
       " 45: <gurobi.Constr *Awaiting Model Update*>,\n",
       " 46: <gurobi.Constr *Awaiting Model Update*>,\n",
       " 47: <gurobi.Constr *Awaiting Model Update*>,\n",
       " 48: <gurobi.Constr *Awaiting Model Update*>,\n",
       " 49: <gurobi.Constr *Awaiting Model Update*>}"
      ]
     },
     "execution_count": 7,
     "metadata": {},
     "output_type": "execute_result"
    },
    {
     "data": {
      "application/javascript": [
       "\n",
       "            setTimeout(function() {\n",
       "                var nbb_cell_id = 7;\n",
       "                var nbb_unformatted_code = \"# Initialize the model\\nm = gp.Model()\\n\\n# Create variables\\nvars = m.addVars(dist.keys(), obj=dist, vtype=GRB.BINARY, name=\\\"e\\\")\\nfor i, j in vars.keys():\\n    vars[j, i] = vars[i, j]\\n\\n# Add degree-2 constraint\\nm.addConstrs(vars.sum(i, \\\"*\\\") == 2 for i in range(n))\";\n",
       "                var nbb_formatted_code = \"# Initialize the model\\nm = gp.Model()\\n\\n# Create variables\\nvars = m.addVars(dist.keys(), obj=dist, vtype=GRB.BINARY, name=\\\"e\\\")\\nfor i, j in vars.keys():\\n    vars[j, i] = vars[i, j]\\n\\n# Add degree-2 constraint\\nm.addConstrs(vars.sum(i, \\\"*\\\") == 2 for i in range(n))\";\n",
       "                var nbb_cells = Jupyter.notebook.get_cells();\n",
       "                for (var i = 0; i < nbb_cells.length; ++i) {\n",
       "                    if (nbb_cells[i].input_prompt_number == nbb_cell_id) {\n",
       "                        if (nbb_cells[i].get_text() == nbb_unformatted_code) {\n",
       "                             nbb_cells[i].set_text(nbb_formatted_code);\n",
       "                        }\n",
       "                        break;\n",
       "                    }\n",
       "                }\n",
       "            }, 500);\n",
       "            "
      ],
      "text/plain": [
       "<IPython.core.display.Javascript object>"
      ]
     },
     "metadata": {},
     "output_type": "display_data"
    }
   ],
   "source": [
    "# Initialize the model\n",
    "m = gp.Model()\n",
    "\n",
    "# Create variables\n",
    "vars = m.addVars(dist.keys(), obj=dist, vtype=GRB.BINARY, name=\"e\")\n",
    "for i, j in vars.keys():\n",
    "    vars[j, i] = vars[i, j]\n",
    "\n",
    "# Add degree-2 constraint\n",
    "m.addConstrs(vars.sum(i, \"*\") == 2 for i in range(n))"
   ]
  },
  {
   "cell_type": "code",
   "execution_count": 8,
   "metadata": {},
   "outputs": [
    {
     "name": "stdout",
     "output_type": "stream",
     "text": [
      "Changed value of parameter lazyConstraints to 1\n",
      "   Prev: 0  Min: 0  Max: 1  Default: 0\n",
      "Gurobi Optimizer version 9.0.1 build v9.0.1rc0 (mac64)\n",
      "Optimize a model with 50 rows, 1225 columns and 2450 nonzeros\n",
      "Model fingerprint: 0x600a73af\n",
      "Variable types: 0 continuous, 1225 integer (1225 binary)\n",
      "Coefficient statistics:\n",
      "  Matrix range     [1e+00, 1e+00]\n",
      "  Objective range  [2e+04, 6e+06]\n",
      "  Bounds range     [1e+00, 1e+00]\n",
      "  RHS range        [2e+00, 2e+00]\n",
      "Found heuristic solution: objective 1.108853e+08\n",
      "Presolve time: 0.00s\n",
      "Presolved: 50 rows, 1225 columns, 2450 nonzeros\n",
      "Variable types: 0 continuous, 1225 integer (1225 binary)\n",
      "\n",
      "Root relaxation: objective 1.870668e+07, 76 iterations, 0.00 seconds\n",
      "\n",
      "    Nodes    |    Current Node    |     Objective Bounds      |     Work\n",
      " Expl Unexpl |  Obj  Depth IntInf | Incumbent    BestBd   Gap | It/Node Time\n",
      "\n",
      "     0     0 1.8707e+07    0   14 1.1089e+08 1.8707e+07  83.1%     -    0s\n",
      "H    0     0                    1.967024e+07 1.8707e+07  4.90%     -    0s\n",
      "H    0     0                    1.876072e+07 1.8707e+07  0.29%     -    0s\n",
      "     0     0 1.8755e+07    0   22 1.8761e+07 1.8755e+07  0.03%     -    0s\n",
      "\n",
      "Explored 1 nodes (80 simplex iterations) in 0.08 seconds\n",
      "Thread count was 8 (of 8 available processors)\n",
      "\n",
      "Solution count 4: 1.87607e+07 1.87633e+07 1.96702e+07 1.10885e+08 \n",
      "\n",
      "Optimal solution found (tolerance 1.00e-04)\n",
      "Best objective 1.876071600000e+07, best bound 1.876071600000e+07, gap 0.0000%\n",
      "\n",
      "User-callback calls 67, time in user-callback 0.04 sec\n",
      "CPU times: user 103 ms, sys: 14 ms, total: 117 ms\n",
      "Wall time: 89.4 ms\n"
     ]
    },
    {
     "data": {
      "application/javascript": [
       "\n",
       "            setTimeout(function() {\n",
       "                var nbb_cell_id = 8;\n",
       "                var nbb_unformatted_code = \"%%time\\n# Optimize model\\nm._vars = vars\\nm.Params.lazyConstraints = 1\\nm.optimize(subtourelim)\";\n",
       "                var nbb_formatted_code = \"%%time\\n# Optimize model\\nm._vars = vars\\nm.Params.lazyConstraints = 1\\nm.optimize(subtourelim)\";\n",
       "                var nbb_cells = Jupyter.notebook.get_cells();\n",
       "                for (var i = 0; i < nbb_cells.length; ++i) {\n",
       "                    if (nbb_cells[i].input_prompt_number == nbb_cell_id) {\n",
       "                        if (nbb_cells[i].get_text() == nbb_unformatted_code) {\n",
       "                             nbb_cells[i].set_text(nbb_formatted_code);\n",
       "                        }\n",
       "                        break;\n",
       "                    }\n",
       "                }\n",
       "            }, 500);\n",
       "            "
      ],
      "text/plain": [
       "<IPython.core.display.Javascript object>"
      ]
     },
     "metadata": {},
     "output_type": "display_data"
    }
   ],
   "source": [
    "%%time\n",
    "# Optimize model\n",
    "m._vars = vars\n",
    "m.Params.lazyConstraints = 1\n",
    "m.optimize(subtourelim)"
   ]
  },
  {
   "cell_type": "code",
   "execution_count": 9,
   "metadata": {
    "scrolled": false
   },
   "outputs": [
    {
     "name": "stdout",
     "output_type": "stream",
     "text": [
      "\n",
      "Optimal tour: [0, 10, 37, 20, 6, 19, 9, 18, 22, 11, 12, 4, 23, 46, 47, 21, 25, 31, 49, 32, 13, 29, 24, 5, 26, 16, 48, 40, 27, 30, 17, 44, 28, 33, 34, 45, 14, 15, 41, 8, 43, 1, 7, 38, 3, 39, 2, 42, 35, 36]\n",
      "Optimal cost: 1.87607e+07\n",
      "\n"
     ]
    },
    {
     "data": {
      "application/javascript": [
       "\n",
       "            setTimeout(function() {\n",
       "                var nbb_cell_id = 9;\n",
       "                var nbb_unformatted_code = \"# Unpack the results\\nvals = m.getAttr(\\\"x\\\", vars)\\nselected = gp.tuplelist((i, j) for i, j in vals.keys() if vals[i, j] > 0.5)\\n\\ntour = subtour(selected)\\nassert len(tour) == n\\n\\nprint(\\\"\\\")\\nprint(\\\"Optimal tour: %s\\\" % str(tour))\\nprint(\\\"Optimal cost: %g\\\" % m.objVal)\\nprint(\\\"\\\")\";\n",
       "                var nbb_formatted_code = \"# Unpack the results\\nvals = m.getAttr(\\\"x\\\", vars)\\nselected = gp.tuplelist((i, j) for i, j in vals.keys() if vals[i, j] > 0.5)\\n\\ntour = subtour(selected)\\nassert len(tour) == n\\n\\nprint(\\\"\\\")\\nprint(\\\"Optimal tour: %s\\\" % str(tour))\\nprint(\\\"Optimal cost: %g\\\" % m.objVal)\\nprint(\\\"\\\")\";\n",
       "                var nbb_cells = Jupyter.notebook.get_cells();\n",
       "                for (var i = 0; i < nbb_cells.length; ++i) {\n",
       "                    if (nbb_cells[i].input_prompt_number == nbb_cell_id) {\n",
       "                        if (nbb_cells[i].get_text() == nbb_unformatted_code) {\n",
       "                             nbb_cells[i].set_text(nbb_formatted_code);\n",
       "                        }\n",
       "                        break;\n",
       "                    }\n",
       "                }\n",
       "            }, 500);\n",
       "            "
      ],
      "text/plain": [
       "<IPython.core.display.Javascript object>"
      ]
     },
     "metadata": {},
     "output_type": "display_data"
    }
   ],
   "source": [
    "# Unpack the results\n",
    "vals = m.getAttr(\"x\", vars)\n",
    "selected = gp.tuplelist((i, j) for i, j in vals.keys() if vals[i, j] > 0.5)\n",
    "\n",
    "tour = subtour(selected)\n",
    "assert len(tour) == n\n",
    "\n",
    "print(\"\")\n",
    "print(\"Optimal tour: %s\" % str(tour))\n",
    "print(\"Optimal cost: %g\" % m.objVal)\n",
    "print(\"\")"
   ]
  },
  {
   "cell_type": "code",
   "execution_count": null,
   "metadata": {},
   "outputs": [],
   "source": []
  }
 ],
 "metadata": {
  "kernelspec": {
   "display_name": "Python [conda env:dldo]",
   "language": "python",
   "name": "conda-env-dldo-py"
  },
  "language_info": {
   "codemirror_mode": {
    "name": "ipython",
    "version": 3
   },
   "file_extension": ".py",
   "mimetype": "text/x-python",
   "name": "python",
   "nbconvert_exporter": "python",
   "pygments_lexer": "ipython3",
   "version": "3.7.6"
  },
  "varInspector": {
   "cols": {
    "lenName": 16,
    "lenType": 16,
    "lenVar": 40
   },
   "kernels_config": {
    "python": {
     "delete_cmd_postfix": "",
     "delete_cmd_prefix": "del ",
     "library": "var_list.py",
     "varRefreshCmd": "print(var_dic_list())"
    },
    "r": {
     "delete_cmd_postfix": ") ",
     "delete_cmd_prefix": "rm(",
     "library": "var_list.r",
     "varRefreshCmd": "cat(var_dic_list()) "
    }
   },
   "types_to_exclude": [
    "module",
    "function",
    "builtin_function_or_method",
    "instance",
    "_Feature"
   ],
   "window_display": false
  }
 },
 "nbformat": 4,
 "nbformat_minor": 2
}
