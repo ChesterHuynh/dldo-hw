{
 "cells": [
  {
   "cell_type": "code",
   "execution_count": 1,
   "metadata": {},
   "outputs": [
    {
     "data": {
      "application/javascript": [
       "\n",
       "            setTimeout(function() {\n",
       "                var nbb_cell_id = 1;\n",
       "                var nbb_unformatted_code = \"%load_ext nb_black\";\n",
       "                var nbb_formatted_code = \"%load_ext nb_black\";\n",
       "                var nbb_cells = Jupyter.notebook.get_cells();\n",
       "                for (var i = 0; i < nbb_cells.length; ++i) {\n",
       "                    if (nbb_cells[i].input_prompt_number == nbb_cell_id) {\n",
       "                        if (nbb_cells[i].get_text() == nbb_unformatted_code) {\n",
       "                             nbb_cells[i].set_text(nbb_formatted_code);\n",
       "                        }\n",
       "                        break;\n",
       "                    }\n",
       "                }\n",
       "            }, 500);\n",
       "            "
      ],
      "text/plain": [
       "<IPython.core.display.Javascript object>"
      ]
     },
     "metadata": {},
     "output_type": "display_data"
    }
   ],
   "source": [
    "%load_ext nb_black"
   ]
  },
  {
   "cell_type": "code",
   "execution_count": 2,
   "metadata": {},
   "outputs": [
    {
     "data": {
      "application/javascript": [
       "\n",
       "            setTimeout(function() {\n",
       "                var nbb_cell_id = 2;\n",
       "                var nbb_unformatted_code = \"import time\\n\\nimport numpy as np\\nimport torch\\nimport torch.nn as nn\\nfrom sklearn.model_selection import train_test_split\";\n",
       "                var nbb_formatted_code = \"import time\\n\\nimport numpy as np\\nimport torch\\nimport torch.nn as nn\\nfrom sklearn.model_selection import train_test_split\";\n",
       "                var nbb_cells = Jupyter.notebook.get_cells();\n",
       "                for (var i = 0; i < nbb_cells.length; ++i) {\n",
       "                    if (nbb_cells[i].input_prompt_number == nbb_cell_id) {\n",
       "                        if (nbb_cells[i].get_text() == nbb_unformatted_code) {\n",
       "                             nbb_cells[i].set_text(nbb_formatted_code);\n",
       "                        }\n",
       "                        break;\n",
       "                    }\n",
       "                }\n",
       "            }, 500);\n",
       "            "
      ],
      "text/plain": [
       "<IPython.core.display.Javascript object>"
      ]
     },
     "metadata": {},
     "output_type": "display_data"
    }
   ],
   "source": [
    "import time\n",
    "\n",
    "import numpy as np\n",
    "import torch\n",
    "import torch.nn as nn\n",
    "from sklearn.model_selection import train_test_split"
   ]
  },
  {
   "cell_type": "code",
   "execution_count": 26,
   "metadata": {},
   "outputs": [
    {
     "data": {
      "text/plain": [
       "<torch._C.Generator at 0x1130c8b70>"
      ]
     },
     "execution_count": 26,
     "metadata": {},
     "output_type": "execute_result"
    },
    {
     "data": {
      "application/javascript": [
       "\n",
       "            setTimeout(function() {\n",
       "                var nbb_cell_id = 26;\n",
       "                var nbb_unformatted_code = \"torch.manual_seed(0)\";\n",
       "                var nbb_formatted_code = \"torch.manual_seed(0)\";\n",
       "                var nbb_cells = Jupyter.notebook.get_cells();\n",
       "                for (var i = 0; i < nbb_cells.length; ++i) {\n",
       "                    if (nbb_cells[i].input_prompt_number == nbb_cell_id) {\n",
       "                        if (nbb_cells[i].get_text() == nbb_unformatted_code) {\n",
       "                             nbb_cells[i].set_text(nbb_formatted_code);\n",
       "                        }\n",
       "                        break;\n",
       "                    }\n",
       "                }\n",
       "            }, 500);\n",
       "            "
      ],
      "text/plain": [
       "<IPython.core.display.Javascript object>"
      ]
     },
     "metadata": {},
     "output_type": "display_data"
    }
   ],
   "source": [
    "torch.manual_seed(0)"
   ]
  },
  {
   "cell_type": "markdown",
   "metadata": {},
   "source": [
    "## Set up the neural network\n",
    "\n",
    "Create a class for network structure.\n",
    "\n",
    "Create helper functions to initialize the weights and to evaluate the training and testing functions."
   ]
  },
  {
   "cell_type": "code",
   "execution_count": 4,
   "metadata": {},
   "outputs": [
    {
     "data": {
      "application/javascript": [
       "\n",
       "            setTimeout(function() {\n",
       "                var nbb_cell_id = 4;\n",
       "                var nbb_unformatted_code = \"class My_Net1(nn.Module):\\n    def __init__(self, n_features, n_classes, hidden_dim1=15, hidden_dim2=15):\\n\\n        super(My_Net1, self).__init__()\\n\\n        self.layer_1 = nn.Linear(n_features, hidden_dim1)\\n        self.layer_2 = nn.Linear(hidden_dim1, hidden_dim2)\\n        self.layer_3 = nn.Linear(hidden_dim2, n_classes)\\n\\n        self.relu = nn.ReLU()\\n        self.softmax = nn.Softmax(dim=1)\\n\\n    def forward(self, input_data):\\n        out = self.layer_1(input_data)\\n        out = self.relu(out)\\n        out = self.layer_2(out)\\n        out = self.relu(out)\\n        out = self.layer_3(out)\\n        out = self.softmax(out)\\n        return out\";\n",
       "                var nbb_formatted_code = \"class My_Net1(nn.Module):\\n    def __init__(self, n_features, n_classes, hidden_dim1=15, hidden_dim2=15):\\n\\n        super(My_Net1, self).__init__()\\n\\n        self.layer_1 = nn.Linear(n_features, hidden_dim1)\\n        self.layer_2 = nn.Linear(hidden_dim1, hidden_dim2)\\n        self.layer_3 = nn.Linear(hidden_dim2, n_classes)\\n\\n        self.relu = nn.ReLU()\\n        self.softmax = nn.Softmax(dim=1)\\n\\n    def forward(self, input_data):\\n        out = self.layer_1(input_data)\\n        out = self.relu(out)\\n        out = self.layer_2(out)\\n        out = self.relu(out)\\n        out = self.layer_3(out)\\n        out = self.softmax(out)\\n        return out\";\n",
       "                var nbb_cells = Jupyter.notebook.get_cells();\n",
       "                for (var i = 0; i < nbb_cells.length; ++i) {\n",
       "                    if (nbb_cells[i].input_prompt_number == nbb_cell_id) {\n",
       "                        if (nbb_cells[i].get_text() == nbb_unformatted_code) {\n",
       "                             nbb_cells[i].set_text(nbb_formatted_code);\n",
       "                        }\n",
       "                        break;\n",
       "                    }\n",
       "                }\n",
       "            }, 500);\n",
       "            "
      ],
      "text/plain": [
       "<IPython.core.display.Javascript object>"
      ]
     },
     "metadata": {},
     "output_type": "display_data"
    }
   ],
   "source": [
    "class My_Net1(nn.Module):\n",
    "    def __init__(self, n_features, n_classes, hidden_dim1=15, hidden_dim2=15):\n",
    "\n",
    "        super(My_Net1, self).__init__()\n",
    "\n",
    "        self.layer_1 = nn.Linear(n_features, hidden_dim1)\n",
    "        self.layer_2 = nn.Linear(hidden_dim1, hidden_dim2)\n",
    "        self.layer_3 = nn.Linear(hidden_dim2, n_classes)\n",
    "\n",
    "        self.relu = nn.ReLU()\n",
    "        self.softmax = nn.Softmax(dim=1)\n",
    "\n",
    "    def forward(self, input_data):\n",
    "        out = self.layer_1(input_data)\n",
    "        out = self.relu(out)\n",
    "        out = self.layer_2(out)\n",
    "        out = self.relu(out)\n",
    "        out = self.layer_3(out)\n",
    "        out = self.softmax(out)\n",
    "        return out"
   ]
  },
  {
   "cell_type": "code",
   "execution_count": 5,
   "metadata": {},
   "outputs": [
    {
     "data": {
      "application/javascript": [
       "\n",
       "            setTimeout(function() {\n",
       "                var nbb_cell_id = 5;\n",
       "                var nbb_unformatted_code = \"class My_Net2(nn.Module):\\n    def __init__(self, n_features, n_classes, hidden_dim1=15, hidden_dim2=15):\\n\\n        super(My_Net2, self).__init__()\\n\\n        self.layer_1 = nn.Linear(n_features, hidden_dim1)\\n        self.layer_2 = nn.Linear(hidden_dim1, hidden_dim2)\\n        self.layer_3 = nn.Linear(hidden_dim2, n_classes)\\n\\n        self.sigmoid = nn.Sigmoid()\\n        self.softmax = nn.Softmax(dim=1)\\n\\n    def forward(self, input_data):\\n        out = self.layer_1(input_data)\\n        out = self.sigmoid(out)\\n        out = self.layer_2(out)\\n        out = self.sigmoid(out)\\n        out = self.layer_3(out)\\n        out = self.softmax(out)\\n        return out\";\n",
       "                var nbb_formatted_code = \"class My_Net2(nn.Module):\\n    def __init__(self, n_features, n_classes, hidden_dim1=15, hidden_dim2=15):\\n\\n        super(My_Net2, self).__init__()\\n\\n        self.layer_1 = nn.Linear(n_features, hidden_dim1)\\n        self.layer_2 = nn.Linear(hidden_dim1, hidden_dim2)\\n        self.layer_3 = nn.Linear(hidden_dim2, n_classes)\\n\\n        self.sigmoid = nn.Sigmoid()\\n        self.softmax = nn.Softmax(dim=1)\\n\\n    def forward(self, input_data):\\n        out = self.layer_1(input_data)\\n        out = self.sigmoid(out)\\n        out = self.layer_2(out)\\n        out = self.sigmoid(out)\\n        out = self.layer_3(out)\\n        out = self.softmax(out)\\n        return out\";\n",
       "                var nbb_cells = Jupyter.notebook.get_cells();\n",
       "                for (var i = 0; i < nbb_cells.length; ++i) {\n",
       "                    if (nbb_cells[i].input_prompt_number == nbb_cell_id) {\n",
       "                        if (nbb_cells[i].get_text() == nbb_unformatted_code) {\n",
       "                             nbb_cells[i].set_text(nbb_formatted_code);\n",
       "                        }\n",
       "                        break;\n",
       "                    }\n",
       "                }\n",
       "            }, 500);\n",
       "            "
      ],
      "text/plain": [
       "<IPython.core.display.Javascript object>"
      ]
     },
     "metadata": {},
     "output_type": "display_data"
    }
   ],
   "source": [
    "class My_Net2(nn.Module):\n",
    "    def __init__(self, n_features, n_classes, hidden_dim1=15, hidden_dim2=15):\n",
    "\n",
    "        super(My_Net2, self).__init__()\n",
    "\n",
    "        self.layer_1 = nn.Linear(n_features, hidden_dim1)\n",
    "        self.layer_2 = nn.Linear(hidden_dim1, hidden_dim2)\n",
    "        self.layer_3 = nn.Linear(hidden_dim2, n_classes)\n",
    "\n",
    "        self.sigmoid = nn.Sigmoid()\n",
    "        self.softmax = nn.Softmax(dim=1)\n",
    "\n",
    "    def forward(self, input_data):\n",
    "        out = self.layer_1(input_data)\n",
    "        out = self.sigmoid(out)\n",
    "        out = self.layer_2(out)\n",
    "        out = self.sigmoid(out)\n",
    "        out = self.layer_3(out)\n",
    "        out = self.softmax(out)\n",
    "        return out"
   ]
  },
  {
   "cell_type": "code",
   "execution_count": 15,
   "metadata": {},
   "outputs": [
    {
     "data": {
      "application/javascript": [
       "\n",
       "            setTimeout(function() {\n",
       "                var nbb_cell_id = 15;\n",
       "                var nbb_unformatted_code = \"class My_Net3(nn.Module):\\n    def __init__(self, n_features, n_classes, hidden_dim1=15, hidden_dim2=15, hidden_dim3=15):\\n\\n        super(My_Net3, self).__init__()\\n\\n        self.layer_1 = nn.Linear(n_features, hidden_dim1)\\n        self.layer_2 = nn.Linear(hidden_dim1, hidden_dim2)\\n        self.layer_3 = nn.Linear(hidden_dim2, n_classes)\\n\\n        self.tanh = nn.Tanh()\\n        self.softmax = nn.Softmax(dim=1)\\n\\n    def forward(self, input_data):\\n        out = self.layer_1(input_data)\\n        out = self.tanh(out)\\n        out = self.layer_2(out)\\n        out = self.tanh(out)\\n        out = self.layer_3(out)\\n        out = self.softmax(out)\\n        return out\";\n",
       "                var nbb_formatted_code = \"class My_Net3(nn.Module):\\n    def __init__(\\n        self, n_features, n_classes, hidden_dim1=15, hidden_dim2=15, hidden_dim3=15\\n    ):\\n\\n        super(My_Net3, self).__init__()\\n\\n        self.layer_1 = nn.Linear(n_features, hidden_dim1)\\n        self.layer_2 = nn.Linear(hidden_dim1, hidden_dim2)\\n        self.layer_3 = nn.Linear(hidden_dim2, n_classes)\\n\\n        self.tanh = nn.Tanh()\\n        self.softmax = nn.Softmax(dim=1)\\n\\n    def forward(self, input_data):\\n        out = self.layer_1(input_data)\\n        out = self.tanh(out)\\n        out = self.layer_2(out)\\n        out = self.tanh(out)\\n        out = self.layer_3(out)\\n        out = self.softmax(out)\\n        return out\";\n",
       "                var nbb_cells = Jupyter.notebook.get_cells();\n",
       "                for (var i = 0; i < nbb_cells.length; ++i) {\n",
       "                    if (nbb_cells[i].input_prompt_number == nbb_cell_id) {\n",
       "                        if (nbb_cells[i].get_text() == nbb_unformatted_code) {\n",
       "                             nbb_cells[i].set_text(nbb_formatted_code);\n",
       "                        }\n",
       "                        break;\n",
       "                    }\n",
       "                }\n",
       "            }, 500);\n",
       "            "
      ],
      "text/plain": [
       "<IPython.core.display.Javascript object>"
      ]
     },
     "metadata": {},
     "output_type": "display_data"
    }
   ],
   "source": [
    "class My_Net3(nn.Module):\n",
    "    def __init__(self, n_features, n_classes, hidden_dim1=15, hidden_dim2=15, hidden_dim3=15):\n",
    "\n",
    "        super(My_Net3, self).__init__()\n",
    "\n",
    "        self.layer_1 = nn.Linear(n_features, hidden_dim1)\n",
    "        self.layer_2 = nn.Linear(hidden_dim1, hidden_dim2)\n",
    "        self.layer_3 = nn.Linear(hidden_dim2, n_classes)\n",
    "\n",
    "        self.tanh = nn.Tanh()\n",
    "        self.softmax = nn.Softmax(dim=1)\n",
    "\n",
    "    def forward(self, input_data):\n",
    "        out = self.layer_1(input_data)\n",
    "        out = self.tanh(out)\n",
    "        out = self.layer_2(out)\n",
    "        out = self.tanh(out)\n",
    "        out = self.layer_3(out)\n",
    "        out = self.softmax(out)\n",
    "        return out"
   ]
  },
  {
   "cell_type": "code",
   "execution_count": 16,
   "metadata": {},
   "outputs": [
    {
     "data": {
      "application/javascript": [
       "\n",
       "            setTimeout(function() {\n",
       "                var nbb_cell_id = 16;\n",
       "                var nbb_unformatted_code = \"def weights_init(m):\\n    \\\"\\\"\\\"Initialize the network using Xavier initialization.\\\"\\\"\\\"\\n    if isinstance(m, nn.Conv2d) or isinstance(m, nn.Linear):\\n        nn.init.xavier_uniform_(m.weight.data)\";\n",
       "                var nbb_formatted_code = \"def weights_init(m):\\n    \\\"\\\"\\\"Initialize the network using Xavier initialization.\\\"\\\"\\\"\\n    if isinstance(m, nn.Conv2d) or isinstance(m, nn.Linear):\\n        nn.init.xavier_uniform_(m.weight.data)\";\n",
       "                var nbb_cells = Jupyter.notebook.get_cells();\n",
       "                for (var i = 0; i < nbb_cells.length; ++i) {\n",
       "                    if (nbb_cells[i].input_prompt_number == nbb_cell_id) {\n",
       "                        if (nbb_cells[i].get_text() == nbb_unformatted_code) {\n",
       "                             nbb_cells[i].set_text(nbb_formatted_code);\n",
       "                        }\n",
       "                        break;\n",
       "                    }\n",
       "                }\n",
       "            }, 500);\n",
       "            "
      ],
      "text/plain": [
       "<IPython.core.display.Javascript object>"
      ]
     },
     "metadata": {},
     "output_type": "display_data"
    }
   ],
   "source": [
    "def weights_init(m):\n",
    "    \"\"\"Initialize the network using Xavier initialization.\"\"\"\n",
    "    if isinstance(m, nn.Conv2d) or isinstance(m, nn.Linear):\n",
    "        nn.init.xavier_uniform_(m.weight.data)"
   ]
  },
  {
   "cell_type": "code",
   "execution_count": 17,
   "metadata": {},
   "outputs": [
    {
     "data": {
      "application/javascript": [
       "\n",
       "            setTimeout(function() {\n",
       "                var nbb_cell_id = 17;\n",
       "                var nbb_unformatted_code = \"def train_eval(net, train_loader, loss, verbose=True):\\n\\n    correct = 0\\n    total = 0\\n    loss_sum = 0\\n    num_batches = 0\\n    for inputs, labels in train_loader:\\n        outputs = net(inputs)\\n        predicted = torch.argmax(outputs, dim=1)\\n        total += labels.size(0)\\n        correct += (predicted.int() == labels.int()).sum()\\n        loss_sum += loss(outputs, labels).item()\\n        num_batches += 1\\n\\n    if verbose:\\n        print(f\\\"Train accuracy: {100 * correct.item() / total:.3f}%\\\")\\n\\n    return loss_sum / num_batches, correct.item() / total\";\n",
       "                var nbb_formatted_code = \"def train_eval(net, train_loader, loss, verbose=True):\\n\\n    correct = 0\\n    total = 0\\n    loss_sum = 0\\n    num_batches = 0\\n    for inputs, labels in train_loader:\\n        outputs = net(inputs)\\n        predicted = torch.argmax(outputs, dim=1)\\n        total += labels.size(0)\\n        correct += (predicted.int() == labels.int()).sum()\\n        loss_sum += loss(outputs, labels).item()\\n        num_batches += 1\\n\\n    if verbose:\\n        print(f\\\"Train accuracy: {100 * correct.item() / total:.3f}%\\\")\\n\\n    return loss_sum / num_batches, correct.item() / total\";\n",
       "                var nbb_cells = Jupyter.notebook.get_cells();\n",
       "                for (var i = 0; i < nbb_cells.length; ++i) {\n",
       "                    if (nbb_cells[i].input_prompt_number == nbb_cell_id) {\n",
       "                        if (nbb_cells[i].get_text() == nbb_unformatted_code) {\n",
       "                             nbb_cells[i].set_text(nbb_formatted_code);\n",
       "                        }\n",
       "                        break;\n",
       "                    }\n",
       "                }\n",
       "            }, 500);\n",
       "            "
      ],
      "text/plain": [
       "<IPython.core.display.Javascript object>"
      ]
     },
     "metadata": {},
     "output_type": "display_data"
    }
   ],
   "source": [
    "def train_eval(net, train_loader, loss, verbose=True):\n",
    "\n",
    "    correct = 0\n",
    "    total = 0\n",
    "    loss_sum = 0\n",
    "    num_batches = 0\n",
    "    for inputs, labels in train_loader:\n",
    "        outputs = net(inputs)\n",
    "        predicted = torch.argmax(outputs, dim=1)\n",
    "        total += labels.size(0)\n",
    "        correct += (predicted.int() == labels.int()).sum()\n",
    "        loss_sum += loss(outputs, labels).item()\n",
    "        num_batches += 1\n",
    "\n",
    "    if verbose:\n",
    "        print(f\"Train accuracy: {100 * correct.item() / total:.3f}%\")\n",
    "\n",
    "    return loss_sum / num_batches, correct.item() / total"
   ]
  },
  {
   "cell_type": "code",
   "execution_count": 18,
   "metadata": {},
   "outputs": [
    {
     "data": {
      "application/javascript": [
       "\n",
       "            setTimeout(function() {\n",
       "                var nbb_cell_id = 18;\n",
       "                var nbb_unformatted_code = \"def test_eval(net, test_loader, loss, verbose=True):\\n\\n    correct = 0\\n    total = 0\\n    loss_sum = 0\\n    num_batches = 0\\n    for inputs, labels in test_loader:\\n        outputs = net(inputs)\\n        predicted = torch.argmax(outputs, dim=1)\\n        total += labels.size(0)\\n        correct += (predicted.int() == labels.int()).sum()\\n        loss_sum += loss(outputs, labels).item()\\n        num_batches += 1\\n\\n    if verbose:\\n        print(f\\\"Test accuracy: {100 * correct.item() / total:.3f}%\\\")\\n\\n    return loss_sum / num_batches, correct.item() / total\";\n",
       "                var nbb_formatted_code = \"def test_eval(net, test_loader, loss, verbose=True):\\n\\n    correct = 0\\n    total = 0\\n    loss_sum = 0\\n    num_batches = 0\\n    for inputs, labels in test_loader:\\n        outputs = net(inputs)\\n        predicted = torch.argmax(outputs, dim=1)\\n        total += labels.size(0)\\n        correct += (predicted.int() == labels.int()).sum()\\n        loss_sum += loss(outputs, labels).item()\\n        num_batches += 1\\n\\n    if verbose:\\n        print(f\\\"Test accuracy: {100 * correct.item() / total:.3f}%\\\")\\n\\n    return loss_sum / num_batches, correct.item() / total\";\n",
       "                var nbb_cells = Jupyter.notebook.get_cells();\n",
       "                for (var i = 0; i < nbb_cells.length; ++i) {\n",
       "                    if (nbb_cells[i].input_prompt_number == nbb_cell_id) {\n",
       "                        if (nbb_cells[i].get_text() == nbb_unformatted_code) {\n",
       "                             nbb_cells[i].set_text(nbb_formatted_code);\n",
       "                        }\n",
       "                        break;\n",
       "                    }\n",
       "                }\n",
       "            }, 500);\n",
       "            "
      ],
      "text/plain": [
       "<IPython.core.display.Javascript object>"
      ]
     },
     "metadata": {},
     "output_type": "display_data"
    }
   ],
   "source": [
    "def test_eval(net, test_loader, loss, verbose=True):\n",
    "\n",
    "    correct = 0\n",
    "    total = 0\n",
    "    loss_sum = 0\n",
    "    num_batches = 0\n",
    "    for inputs, labels in test_loader:\n",
    "        outputs = net(inputs)\n",
    "        predicted = torch.argmax(outputs, dim=1)\n",
    "        total += labels.size(0)\n",
    "        correct += (predicted.int() == labels.int()).sum()\n",
    "        loss_sum += loss(outputs, labels).item()\n",
    "        num_batches += 1\n",
    "\n",
    "    if verbose:\n",
    "        print(f\"Test accuracy: {100 * correct.item() / total:.3f}%\")\n",
    "\n",
    "    return loss_sum / num_batches, correct.item() / total"
   ]
  },
  {
   "cell_type": "code",
   "execution_count": 19,
   "metadata": {},
   "outputs": [
    {
     "data": {
      "application/javascript": [
       "\n",
       "            setTimeout(function() {\n",
       "                var nbb_cell_id = 19;\n",
       "                var nbb_unformatted_code = \"def main(train_loader, test_loader, net_initializer, n_features, n_classes, print_every=5, epochs=25, lr=1e-2):\\n    \\n\\n    # Initialize the neural network\\n    net = net_initializer(n_features, n_classes)\\n    loss = nn.CrossEntropyLoss()\\n    opt = torch.optim.Adam(net.parameters(), lr=lr)\\n    net.apply(weights_init)\\n\\n    train_loss_store = []\\n    train_acc_store = []\\n    test_loss_store = []\\n    test_acc_store = []\\n\\n    for epoch in range(epochs):\\n        verbose = False\\n        if (epoch == 0) or ((epoch + 1) % print_every) == 0:\\n            verbose = True\\n        \\n        time1 = time.time()\\n        \\n        if verbose:\\n            print(f\\\"Epoch {epoch + 1}:\\\")\\n\\n        for i, (feat, label) in enumerate(train_loader, 0):\\n            opt.zero_grad()\\n            outputs = net(feat)\\n            l = loss(outputs, label)\\n            l.backward()\\n            opt.step()\\n    \\n        l_temp, acc_temp = train_eval(net, train_loader, loss, verbose=verbose)\\n        train_loss_store.append(l_temp)\\n        train_acc_store.append(acc_temp)\\n\\n        l_temp, acc_temp = test_eval(net, test_loader, loss, verbose=verbose)\\n        test_loss_store.append(l_temp)\\n        test_acc_store.append(acc_temp)\\n\\n        time2 = time.time()\\n        \\n        if verbose:\\n            print(f\\\"Time lapse: {time2-time1:.2f} sec \\\\n\\\")\";\n",
       "                var nbb_formatted_code = \"def main(\\n    train_loader,\\n    test_loader,\\n    net_initializer,\\n    n_features,\\n    n_classes,\\n    print_every=5,\\n    epochs=25,\\n    lr=1e-2,\\n):\\n\\n    # Initialize the neural network\\n    net = net_initializer(n_features, n_classes)\\n    loss = nn.CrossEntropyLoss()\\n    opt = torch.optim.Adam(net.parameters(), lr=lr)\\n    net.apply(weights_init)\\n\\n    train_loss_store = []\\n    train_acc_store = []\\n    test_loss_store = []\\n    test_acc_store = []\\n\\n    for epoch in range(epochs):\\n        verbose = False\\n        if (epoch == 0) or ((epoch + 1) % print_every) == 0:\\n            verbose = True\\n\\n        time1 = time.time()\\n\\n        if verbose:\\n            print(f\\\"Epoch {epoch + 1}:\\\")\\n\\n        for i, (feat, label) in enumerate(train_loader, 0):\\n            opt.zero_grad()\\n            outputs = net(feat)\\n            l = loss(outputs, label)\\n            l.backward()\\n            opt.step()\\n\\n        l_temp, acc_temp = train_eval(net, train_loader, loss, verbose=verbose)\\n        train_loss_store.append(l_temp)\\n        train_acc_store.append(acc_temp)\\n\\n        l_temp, acc_temp = test_eval(net, test_loader, loss, verbose=verbose)\\n        test_loss_store.append(l_temp)\\n        test_acc_store.append(acc_temp)\\n\\n        time2 = time.time()\\n\\n        if verbose:\\n            print(f\\\"Time lapse: {time2-time1:.2f} sec \\\\n\\\")\";\n",
       "                var nbb_cells = Jupyter.notebook.get_cells();\n",
       "                for (var i = 0; i < nbb_cells.length; ++i) {\n",
       "                    if (nbb_cells[i].input_prompt_number == nbb_cell_id) {\n",
       "                        if (nbb_cells[i].get_text() == nbb_unformatted_code) {\n",
       "                             nbb_cells[i].set_text(nbb_formatted_code);\n",
       "                        }\n",
       "                        break;\n",
       "                    }\n",
       "                }\n",
       "            }, 500);\n",
       "            "
      ],
      "text/plain": [
       "<IPython.core.display.Javascript object>"
      ]
     },
     "metadata": {},
     "output_type": "display_data"
    }
   ],
   "source": [
    "def main(train_loader, test_loader, net_initializer, n_features, n_classes, lr=1e-2, print_every=5, epochs=25):\n",
    "    \n",
    "\n",
    "    # Initialize the neural network\n",
    "    net = net_initializer(n_features, n_classes)\n",
    "    loss = nn.CrossEntropyLoss()\n",
    "    opt = torch.optim.Adam(net.parameters(), lr=lr)\n",
    "    net.apply(weights_init)\n",
    "\n",
    "    train_loss_store = []\n",
    "    train_acc_store = []\n",
    "    test_loss_store = []\n",
    "    test_acc_store = []\n",
    "\n",
    "    for epoch in range(epochs):\n",
    "        verbose = False\n",
    "        if (epoch == 0) or ((epoch + 1) % print_every) == 0:\n",
    "            verbose = True\n",
    "        \n",
    "        time1 = time.time()\n",
    "        \n",
    "        if verbose:\n",
    "            print(f\"Epoch {epoch + 1}:\")\n",
    "\n",
    "        for i, (feat, label) in enumerate(train_loader, 0):\n",
    "            opt.zero_grad()\n",
    "            outputs = net(feat)\n",
    "            l = loss(outputs, label)\n",
    "            l.backward()\n",
    "            opt.step()\n",
    "    \n",
    "        l_temp, acc_temp = train_eval(net, train_loader, loss, verbose=verbose)\n",
    "        train_loss_store.append(l_temp)\n",
    "        train_acc_store.append(acc_temp)\n",
    "\n",
    "        l_temp, acc_temp = test_eval(net, test_loader, loss, verbose=verbose)\n",
    "        test_loss_store.append(l_temp)\n",
    "        test_acc_store.append(acc_temp)\n",
    "\n",
    "        time2 = time.time()\n",
    "        \n",
    "        if verbose:\n",
    "            print(f\"Time lapse: {time2-time1:.2f} sec \\n\")"
   ]
  },
  {
   "cell_type": "markdown",
   "metadata": {},
   "source": [
    "## Make a helper function to parse the data file"
   ]
  },
  {
   "cell_type": "code",
   "execution_count": 28,
   "metadata": {},
   "outputs": [
    {
     "data": {
      "application/javascript": [
       "\n",
       "            setTimeout(function() {\n",
       "                var nbb_cell_id = 28;\n",
       "                var nbb_unformatted_code = \"def parse_data(fpath):\\n\\n    # Input the data and split into features and labels\\n    data = np.genfromtxt(fpath, dtype=np.int64, skip_header=7)\\n    X, y = data[:, :-1], data[:, -1]\\n    n_classes = len(np.unique(y))\\n    n_features = X.shape[1]\\n\\n    # Index classes starting at 0 for CrossEntropyLoss() to work\\n    y -= 1\\n\\n    # Split into training and testing sets\\n    X_train, X_test, y_train, y_test = train_test_split(X, y, test_size=0.3)\\n\\n    # Convert to tensors\\n    X_train = torch.Tensor(X_train)\\n    X_test = torch.Tensor(X_test)\\n    y_train = torch.LongTensor(y_train)\\n    y_test = torch.LongTensor(y_test)\\n\\n    # Pick optimal batch size\\n    if \\\"stable4\\\" in fpath:\\n        batch_size = 1\\n    elif \\\"stable5\\\" in fpath:\\n        batch_size = 32\\n    elif \\\"stable6\\\" in fpath:\\n        batch_size = 64\\n\\n    # Make data loaders for the test and training set\\n    train = torch.utils.data.TensorDataset(X_train, y_train)\\n    test = torch.utils.data.TensorDataset(X_test, y_test)\\n\\n    train_loader = torch.utils.data.DataLoader(\\n        train, batch_size=batch_size, num_workers=2\\n    )\\n    test_loader = torch.utils.data.DataLoader(\\n        test, batch_size=batch_size, shuffle=False, num_workers=2\\n    )\\n\\n    return train_loader, test_loader, n_features, n_classes\";\n",
       "                var nbb_formatted_code = \"def parse_data(fpath):\\n\\n    # Input the data and split into features and labels\\n    data = np.genfromtxt(fpath, dtype=np.int64, skip_header=7)\\n    X, y = data[:, :-1], data[:, -1]\\n    n_classes = len(np.unique(y))\\n    n_features = X.shape[1]\\n\\n    # Index classes starting at 0 for CrossEntropyLoss() to work\\n    y -= 1\\n\\n    # Split into training and testing sets\\n    X_train, X_test, y_train, y_test = train_test_split(X, y, test_size=0.3)\\n\\n    # Convert to tensors\\n    X_train = torch.Tensor(X_train)\\n    X_test = torch.Tensor(X_test)\\n    y_train = torch.LongTensor(y_train)\\n    y_test = torch.LongTensor(y_test)\\n\\n    # Pick optimal batch size\\n    if \\\"stable4\\\" in fpath:\\n        batch_size = 1\\n    elif \\\"stable5\\\" in fpath:\\n        batch_size = 32\\n    elif \\\"stable6\\\" in fpath:\\n        batch_size = 64\\n\\n    # Make data loaders for the test and training set\\n    train = torch.utils.data.TensorDataset(X_train, y_train)\\n    test = torch.utils.data.TensorDataset(X_test, y_test)\\n\\n    train_loader = torch.utils.data.DataLoader(\\n        train, batch_size=batch_size, num_workers=2\\n    )\\n    test_loader = torch.utils.data.DataLoader(\\n        test, batch_size=batch_size, shuffle=False, num_workers=2\\n    )\\n\\n    return train_loader, test_loader, n_features, n_classes\";\n",
       "                var nbb_cells = Jupyter.notebook.get_cells();\n",
       "                for (var i = 0; i < nbb_cells.length; ++i) {\n",
       "                    if (nbb_cells[i].input_prompt_number == nbb_cell_id) {\n",
       "                        if (nbb_cells[i].get_text() == nbb_unformatted_code) {\n",
       "                             nbb_cells[i].set_text(nbb_formatted_code);\n",
       "                        }\n",
       "                        break;\n",
       "                    }\n",
       "                }\n",
       "            }, 500);\n",
       "            "
      ],
      "text/plain": [
       "<IPython.core.display.Javascript object>"
      ]
     },
     "metadata": {},
     "output_type": "display_data"
    }
   ],
   "source": [
    "def parse_data(fpath):\n",
    "\n",
    "    # Input the data and split into features and labels\n",
    "    data = np.genfromtxt(fpath, dtype=np.int64, skip_header=7)\n",
    "    X, y = data[:, :-1], data[:, -1]\n",
    "    n_classes = len(np.unique(y))\n",
    "    n_features = X.shape[1]\n",
    "\n",
    "    # Index classes starting at 0 for CrossEntropyLoss() to work\n",
    "    y -= 1\n",
    "\n",
    "    # Split into training and testing sets\n",
    "    X_train, X_test, y_train, y_test = train_test_split(X, y, test_size=0.3)\n",
    "\n",
    "    # Convert to tensors\n",
    "    X_train = torch.Tensor(X_train)\n",
    "    X_test = torch.Tensor(X_test)\n",
    "    y_train = torch.LongTensor(y_train)\n",
    "    y_test = torch.LongTensor(y_test)\n",
    "\n",
    "    # Pick optimal batch size\n",
    "    if \"stable4\" in fpath:\n",
    "        batch_size = 1\n",
    "    elif \"stable5\" in fpath:\n",
    "        batch_size = 32\n",
    "    elif \"stable6\" in fpath:\n",
    "        batch_size = 64\n",
    "\n",
    "    # Make data loaders for the test and training set\n",
    "    train = torch.utils.data.TensorDataset(X_train, y_train)\n",
    "    test = torch.utils.data.TensorDataset(X_test, y_test)\n",
    "\n",
    "    train_loader = torch.utils.data.DataLoader(\n",
    "        train, batch_size=batch_size, num_workers=2\n",
    "    )\n",
    "    test_loader = torch.utils.data.DataLoader(\n",
    "        test, batch_size=batch_size, shuffle=False, num_workers=2\n",
    "    )\n",
    "\n",
    "    return train_loader, test_loader, n_features, n_classes"
   ]
  },
  {
   "cell_type": "markdown",
   "metadata": {},
   "source": [
    "## Train the model for each dataset"
   ]
  },
  {
   "cell_type": "code",
   "execution_count": 30,
   "metadata": {},
   "outputs": [
    {
     "name": "stdout",
     "output_type": "stream",
     "text": [
      "My_Net1\n",
      "--------\n",
      "Epoch 1:\n",
      "Train accuracy: 56.818%\n",
      "Test accuracy: 80.000%\n",
      "Time lapse: 0.21 sec \n",
      "\n",
      "Epoch 5:\n",
      "Train accuracy: 79.545%\n",
      "Test accuracy: 75.000%\n",
      "Time lapse: 0.19 sec \n",
      "\n",
      "Epoch 10:\n",
      "Train accuracy: 93.182%\n",
      "Test accuracy: 85.000%\n",
      "Time lapse: 0.20 sec \n",
      "\n",
      "Epoch 15:\n",
      "Train accuracy: 95.455%\n",
      "Test accuracy: 90.000%\n",
      "Time lapse: 0.20 sec \n",
      "\n",
      "Epoch 20:\n",
      "Train accuracy: 95.455%\n",
      "Test accuracy: 85.000%\n",
      "Time lapse: 0.19 sec \n",
      "\n",
      "Epoch 25:\n",
      "Train accuracy: 95.455%\n",
      "Test accuracy: 90.000%\n",
      "Time lapse: 0.21 sec \n",
      "\n",
      "My_Net2\n",
      "--------\n",
      "Epoch 1:\n",
      "Train accuracy: 54.545%\n",
      "Test accuracy: 80.000%\n",
      "Time lapse: 0.19 sec \n",
      "\n",
      "Epoch 5:\n",
      "Train accuracy: 54.545%\n",
      "Test accuracy: 80.000%\n",
      "Time lapse: 0.20 sec \n",
      "\n",
      "Epoch 10:\n",
      "Train accuracy: 63.636%\n",
      "Test accuracy: 80.000%\n",
      "Time lapse: 0.20 sec \n",
      "\n",
      "Epoch 15:\n",
      "Train accuracy: 79.545%\n",
      "Test accuracy: 80.000%\n",
      "Time lapse: 0.20 sec \n",
      "\n",
      "Epoch 20:\n",
      "Train accuracy: 86.364%\n",
      "Test accuracy: 85.000%\n",
      "Time lapse: 0.19 sec \n",
      "\n",
      "Epoch 25:\n",
      "Train accuracy: 86.364%\n",
      "Test accuracy: 85.000%\n",
      "Time lapse: 0.19 sec \n",
      "\n",
      "My_Net3\n",
      "--------\n",
      "Epoch 1:\n",
      "Train accuracy: 61.364%\n",
      "Test accuracy: 80.000%\n",
      "Time lapse: 0.19 sec \n",
      "\n",
      "Epoch 5:\n",
      "Train accuracy: 81.818%\n",
      "Test accuracy: 80.000%\n",
      "Time lapse: 0.19 sec \n",
      "\n",
      "Epoch 10:\n",
      "Train accuracy: 86.364%\n",
      "Test accuracy: 85.000%\n",
      "Time lapse: 0.20 sec \n",
      "\n",
      "Epoch 15:\n",
      "Train accuracy: 88.636%\n",
      "Test accuracy: 85.000%\n",
      "Time lapse: 0.19 sec \n",
      "\n",
      "Epoch 20:\n",
      "Train accuracy: 88.636%\n",
      "Test accuracy: 85.000%\n",
      "Time lapse: 0.20 sec \n",
      "\n",
      "Epoch 25:\n",
      "Train accuracy: 90.909%\n",
      "Test accuracy: 75.000%\n",
      "Time lapse: 0.19 sec \n",
      "\n"
     ]
    },
    {
     "data": {
      "application/javascript": [
       "\n",
       "            setTimeout(function() {\n",
       "                var nbb_cell_id = 30;\n",
       "                var nbb_unformatted_code = \"fpath = \\\"stable4.txt\\\"\\ntrain_loader, test_loader, n_features, n_classes = parse_data(fpath)\\nprint(\\\"My_Net1\\\")\\nprint(\\\"--------\\\")\\nmain(train_loader, test_loader, My_Net1, n_features, n_classes, lr=5e-3)\\nprint(\\\"My_Net2\\\")\\nprint(\\\"--------\\\")\\nmain(train_loader, test_loader, My_Net2, n_features, n_classes, lr=5e-3)\\nprint(\\\"My_Net3\\\")\\nprint(\\\"--------\\\")\\nmain(train_loader, test_loader, My_Net3, n_features, n_classes, lr=5e-3)\";\n",
       "                var nbb_formatted_code = \"fpath = \\\"stable4.txt\\\"\\ntrain_loader, test_loader, n_features, n_classes = parse_data(fpath)\\nprint(\\\"My_Net1\\\")\\nprint(\\\"--------\\\")\\nmain(train_loader, test_loader, My_Net1, n_features, n_classes, lr=5e-3)\\nprint(\\\"My_Net2\\\")\\nprint(\\\"--------\\\")\\nmain(train_loader, test_loader, My_Net2, n_features, n_classes, lr=5e-3)\\nprint(\\\"My_Net3\\\")\\nprint(\\\"--------\\\")\\nmain(train_loader, test_loader, My_Net3, n_features, n_classes, lr=5e-3)\";\n",
       "                var nbb_cells = Jupyter.notebook.get_cells();\n",
       "                for (var i = 0; i < nbb_cells.length; ++i) {\n",
       "                    if (nbb_cells[i].input_prompt_number == nbb_cell_id) {\n",
       "                        if (nbb_cells[i].get_text() == nbb_unformatted_code) {\n",
       "                             nbb_cells[i].set_text(nbb_formatted_code);\n",
       "                        }\n",
       "                        break;\n",
       "                    }\n",
       "                }\n",
       "            }, 500);\n",
       "            "
      ],
      "text/plain": [
       "<IPython.core.display.Javascript object>"
      ]
     },
     "metadata": {},
     "output_type": "display_data"
    }
   ],
   "source": [
    "fpath = \"stable4.txt\"\n",
    "train_loader, test_loader, n_features, n_classes = parse_data(fpath)\n",
    "print(\"My_Net1\")\n",
    "print(\"--------\")\n",
    "main(train_loader, test_loader, My_Net1, n_features, n_classes, lr=5e-3)\n",
    "print(\"My_Net2\")\n",
    "print(\"--------\")\n",
    "main(train_loader, test_loader, My_Net2, n_features, n_classes, lr=5e-3)\n",
    "print(\"My_Net3\")\n",
    "print(\"--------\")\n",
    "main(train_loader, test_loader, My_Net3, n_features, n_classes, lr=5e-3)"
   ]
  },
  {
   "cell_type": "code",
   "execution_count": 31,
   "metadata": {},
   "outputs": [
    {
     "name": "stdout",
     "output_type": "stream",
     "text": [
      "My_Net1\n",
      "--------\n",
      "Epoch 1:\n",
      "Train accuracy: 37.989%\n",
      "Test accuracy: 37.987%\n",
      "Time lapse: 0.18 sec \n",
      "\n",
      "Epoch 5:\n",
      "Train accuracy: 75.419%\n",
      "Test accuracy: 73.701%\n",
      "Time lapse: 0.15 sec \n",
      "\n",
      "Epoch 10:\n",
      "Train accuracy: 79.330%\n",
      "Test accuracy: 80.519%\n",
      "Time lapse: 0.16 sec \n",
      "\n",
      "Epoch 15:\n",
      "Train accuracy: 79.330%\n",
      "Test accuracy: 82.468%\n",
      "Time lapse: 0.15 sec \n",
      "\n",
      "Epoch 20:\n",
      "Train accuracy: 83.101%\n",
      "Test accuracy: 84.416%\n",
      "Time lapse: 0.15 sec \n",
      "\n",
      "Epoch 25:\n",
      "Train accuracy: 84.777%\n",
      "Test accuracy: 85.390%\n",
      "Time lapse: 0.16 sec \n",
      "\n",
      "My_Net2\n",
      "--------\n",
      "Epoch 1:\n",
      "Train accuracy: 55.028%\n",
      "Test accuracy: 57.143%\n",
      "Time lapse: 0.15 sec \n",
      "\n",
      "Epoch 5:\n",
      "Train accuracy: 55.028%\n",
      "Test accuracy: 57.143%\n",
      "Time lapse: 0.15 sec \n",
      "\n",
      "Epoch 10:\n",
      "Train accuracy: 55.028%\n",
      "Test accuracy: 57.143%\n",
      "Time lapse: 0.16 sec \n",
      "\n",
      "Epoch 15:\n",
      "Train accuracy: 75.559%\n",
      "Test accuracy: 77.273%\n",
      "Time lapse: 0.15 sec \n",
      "\n",
      "Epoch 20:\n",
      "Train accuracy: 77.095%\n",
      "Test accuracy: 78.896%\n",
      "Time lapse: 0.15 sec \n",
      "\n",
      "Epoch 25:\n",
      "Train accuracy: 77.095%\n",
      "Test accuracy: 78.896%\n",
      "Time lapse: 0.15 sec \n",
      "\n",
      "My_Net3\n",
      "--------\n",
      "Epoch 1:\n",
      "Train accuracy: 56.425%\n",
      "Test accuracy: 59.091%\n",
      "Time lapse: 0.15 sec \n",
      "\n",
      "Epoch 5:\n",
      "Train accuracy: 75.838%\n",
      "Test accuracy: 77.273%\n",
      "Time lapse: 0.15 sec \n",
      "\n",
      "Epoch 10:\n",
      "Train accuracy: 77.654%\n",
      "Test accuracy: 79.870%\n",
      "Time lapse: 0.15 sec \n",
      "\n",
      "Epoch 15:\n",
      "Train accuracy: 80.587%\n",
      "Test accuracy: 80.519%\n",
      "Time lapse: 0.15 sec \n",
      "\n",
      "Epoch 20:\n",
      "Train accuracy: 81.285%\n",
      "Test accuracy: 80.519%\n",
      "Time lapse: 0.15 sec \n",
      "\n",
      "Epoch 25:\n",
      "Train accuracy: 82.542%\n",
      "Test accuracy: 80.519%\n",
      "Time lapse: 0.15 sec \n",
      "\n"
     ]
    },
    {
     "data": {
      "application/javascript": [
       "\n",
       "            setTimeout(function() {\n",
       "                var nbb_cell_id = 31;\n",
       "                var nbb_unformatted_code = \"fpath = \\\"stable5.txt\\\"\\ntrain_loader, test_loader, n_features, n_classes = parse_data(fpath)\\nprint(\\\"My_Net1\\\")\\nprint(\\\"--------\\\")\\nmain(train_loader, test_loader, My_Net1, n_features, n_classes, lr=5e-3)\\nprint(\\\"My_Net2\\\")\\nprint(\\\"--------\\\")\\nmain(train_loader, test_loader, My_Net2, n_features, n_classes, lr=5e-3)\\nprint(\\\"My_Net3\\\")\\nprint(\\\"--------\\\")\\nmain(train_loader, test_loader, My_Net3, n_features, n_classes, lr=5e-3)\";\n",
       "                var nbb_formatted_code = \"fpath = \\\"stable5.txt\\\"\\ntrain_loader, test_loader, n_features, n_classes = parse_data(fpath)\\nprint(\\\"My_Net1\\\")\\nprint(\\\"--------\\\")\\nmain(train_loader, test_loader, My_Net1, n_features, n_classes, lr=5e-3)\\nprint(\\\"My_Net2\\\")\\nprint(\\\"--------\\\")\\nmain(train_loader, test_loader, My_Net2, n_features, n_classes, lr=5e-3)\\nprint(\\\"My_Net3\\\")\\nprint(\\\"--------\\\")\\nmain(train_loader, test_loader, My_Net3, n_features, n_classes, lr=5e-3)\";\n",
       "                var nbb_cells = Jupyter.notebook.get_cells();\n",
       "                for (var i = 0; i < nbb_cells.length; ++i) {\n",
       "                    if (nbb_cells[i].input_prompt_number == nbb_cell_id) {\n",
       "                        if (nbb_cells[i].get_text() == nbb_unformatted_code) {\n",
       "                             nbb_cells[i].set_text(nbb_formatted_code);\n",
       "                        }\n",
       "                        break;\n",
       "                    }\n",
       "                }\n",
       "            }, 500);\n",
       "            "
      ],
      "text/plain": [
       "<IPython.core.display.Javascript object>"
      ]
     },
     "metadata": {},
     "output_type": "display_data"
    }
   ],
   "source": [
    "fpath = \"stable5.txt\"\n",
    "train_loader, test_loader, n_features, n_classes = parse_data(fpath)\n",
    "print(\"My_Net1\")\n",
    "print(\"--------\")\n",
    "main(train_loader, test_loader, My_Net1, n_features, n_classes, lr=5e-3)\n",
    "print(\"My_Net2\")\n",
    "print(\"--------\")\n",
    "main(train_loader, test_loader, My_Net2, n_features, n_classes, lr=5e-3)\n",
    "print(\"My_Net3\")\n",
    "print(\"--------\")\n",
    "main(train_loader, test_loader, My_Net3, n_features, n_classes, lr=5e-3)"
   ]
  },
  {
   "cell_type": "code",
   "execution_count": 35,
   "metadata": {},
   "outputs": [
    {
     "name": "stdout",
     "output_type": "stream",
     "text": [
      "My_Net1\n",
      "--------\n",
      "Epoch 1:\n",
      "Train accuracy: 67.611%\n",
      "Test accuracy: 67.104%\n",
      "Time lapse: 0.95 sec \n",
      "\n",
      "Epoch 5:\n",
      "Train accuracy: 73.789%\n",
      "Test accuracy: 72.851%\n",
      "Time lapse: 0.95 sec \n",
      "\n",
      "Epoch 10:\n",
      "Train accuracy: 74.317%\n",
      "Test accuracy: 73.136%\n",
      "Time lapse: 0.95 sec \n",
      "\n",
      "Epoch 15:\n",
      "Train accuracy: 75.559%\n",
      "Test accuracy: 74.235%\n",
      "Time lapse: 0.95 sec \n",
      "\n",
      "Epoch 20:\n",
      "Train accuracy: 76.252%\n",
      "Test accuracy: 74.957%\n",
      "Time lapse: 0.96 sec \n",
      "\n",
      "Epoch 25:\n",
      "Train accuracy: 76.719%\n",
      "Test accuracy: 75.384%\n",
      "Time lapse: 0.97 sec \n",
      "\n",
      "My_Net2\n",
      "--------\n",
      "Epoch 1:\n",
      "Train accuracy: 66.713%\n",
      "Test accuracy: 66.473%\n",
      "Time lapse: 0.95 sec \n",
      "\n",
      "Epoch 5:\n",
      "Train accuracy: 66.713%\n",
      "Test accuracy: 66.473%\n",
      "Time lapse: 0.95 sec \n",
      "\n",
      "Epoch 10:\n",
      "Train accuracy: 66.713%\n",
      "Test accuracy: 66.473%\n",
      "Time lapse: 0.94 sec \n",
      "\n",
      "Epoch 15:\n",
      "Train accuracy: 66.713%\n",
      "Test accuracy: 66.473%\n",
      "Time lapse: 0.95 sec \n",
      "\n",
      "Epoch 20:\n",
      "Train accuracy: 66.713%\n",
      "Test accuracy: 66.473%\n",
      "Time lapse: 0.97 sec \n",
      "\n",
      "Epoch 25:\n",
      "Train accuracy: 66.713%\n",
      "Test accuracy: 66.473%\n",
      "Time lapse: 0.96 sec \n",
      "\n",
      "My_Net3\n",
      "--------\n",
      "Epoch 1:\n",
      "Train accuracy: 66.713%\n",
      "Test accuracy: 66.473%\n",
      "Time lapse: 0.93 sec \n",
      "\n",
      "Epoch 5:\n",
      "Train accuracy: 71.108%\n",
      "Test accuracy: 70.390%\n",
      "Time lapse: 1.01 sec \n",
      "\n",
      "Epoch 10:\n",
      "Train accuracy: 73.615%\n",
      "Test accuracy: 73.655%\n",
      "Time lapse: 0.97 sec \n",
      "\n",
      "Epoch 15:\n",
      "Train accuracy: 75.119%\n",
      "Test accuracy: 74.611%\n",
      "Time lapse: 1.02 sec \n",
      "\n",
      "Epoch 20:\n",
      "Train accuracy: 76.374%\n",
      "Test accuracy: 75.252%\n",
      "Time lapse: 0.95 sec \n",
      "\n",
      "Epoch 25:\n",
      "Train accuracy: 76.850%\n",
      "Test accuracy: 75.750%\n",
      "Time lapse: 0.99 sec \n",
      "\n"
     ]
    },
    {
     "data": {
      "application/javascript": [
       "\n",
       "            setTimeout(function() {\n",
       "                var nbb_cell_id = 35;\n",
       "                var nbb_unformatted_code = \"fpath = \\\"stable6.txt\\\"\\ntrain_loader, test_loader, n_features, n_classes = parse_data(fpath)\\nprint(\\\"My_Net1\\\")\\nprint(\\\"--------\\\")\\nmain(train_loader, test_loader, My_Net1, n_features, n_classes, lr=5e-3)\\nprint(\\\"My_Net2\\\")\\nprint(\\\"--------\\\")\\nmain(train_loader, test_loader, My_Net2, n_features, n_classes, lr=5e-3)\\nprint(\\\"My_Net3\\\")\\nprint(\\\"--------\\\")\\nmain(train_loader, test_loader, My_Net3, n_features, n_classes, lr=5e-3)\";\n",
       "                var nbb_formatted_code = \"fpath = \\\"stable6.txt\\\"\\ntrain_loader, test_loader, n_features, n_classes = parse_data(fpath)\\nprint(\\\"My_Net1\\\")\\nprint(\\\"--------\\\")\\nmain(train_loader, test_loader, My_Net1, n_features, n_classes, lr=5e-3)\\nprint(\\\"My_Net2\\\")\\nprint(\\\"--------\\\")\\nmain(train_loader, test_loader, My_Net2, n_features, n_classes, lr=5e-3)\\nprint(\\\"My_Net3\\\")\\nprint(\\\"--------\\\")\\nmain(train_loader, test_loader, My_Net3, n_features, n_classes, lr=5e-3)\";\n",
       "                var nbb_cells = Jupyter.notebook.get_cells();\n",
       "                for (var i = 0; i < nbb_cells.length; ++i) {\n",
       "                    if (nbb_cells[i].input_prompt_number == nbb_cell_id) {\n",
       "                        if (nbb_cells[i].get_text() == nbb_unformatted_code) {\n",
       "                             nbb_cells[i].set_text(nbb_formatted_code);\n",
       "                        }\n",
       "                        break;\n",
       "                    }\n",
       "                }\n",
       "            }, 500);\n",
       "            "
      ],
      "text/plain": [
       "<IPython.core.display.Javascript object>"
      ]
     },
     "metadata": {},
     "output_type": "display_data"
    }
   ],
   "source": [
    "fpath = \"stable6.txt\"\n",
    "train_loader, test_loader, n_features, n_classes = parse_data(fpath)\n",
    "print(\"My_Net1\")\n",
    "print(\"--------\")\n",
    "main(train_loader, test_loader, My_Net1, n_features, n_classes, lr=5e-3)\n",
    "print(\"My_Net2\")\n",
    "print(\"--------\")\n",
    "main(train_loader, test_loader, My_Net2, n_features, n_classes, lr=5e-3)\n",
    "print(\"My_Net3\")\n",
    "print(\"--------\")\n",
    "main(train_loader, test_loader, My_Net3, n_features, n_classes, lr=5e-3)"
   ]
  },
  {
   "cell_type": "code",
   "execution_count": null,
   "metadata": {},
   "outputs": [],
   "source": []
  }
 ],
 "metadata": {
  "kernelspec": {
   "display_name": "“dldo”",
   "language": "python",
   "name": "dldo"
  },
  "language_info": {
   "codemirror_mode": {
    "name": "ipython",
    "version": 3
   },
   "file_extension": ".py",
   "mimetype": "text/x-python",
   "name": "python",
   "nbconvert_exporter": "python",
   "pygments_lexer": "ipython3",
   "version": "3.7.6"
  },
  "varInspector": {
   "cols": {
    "lenName": 16,
    "lenType": 16,
    "lenVar": 40
   },
   "kernels_config": {
    "python": {
     "delete_cmd_postfix": "",
     "delete_cmd_prefix": "del ",
     "library": "var_list.py",
     "varRefreshCmd": "print(var_dic_list())"
    },
    "r": {
     "delete_cmd_postfix": ") ",
     "delete_cmd_prefix": "rm(",
     "library": "var_list.r",
     "varRefreshCmd": "cat(var_dic_list()) "
    }
   },
   "types_to_exclude": [
    "module",
    "function",
    "builtin_function_or_method",
    "instance",
    "_Feature"
   ],
   "window_display": false
  }
 },
 "nbformat": 4,
 "nbformat_minor": 4
}
