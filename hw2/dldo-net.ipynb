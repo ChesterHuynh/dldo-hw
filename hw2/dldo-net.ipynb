{
 "cells": [
  {
   "cell_type": "code",
   "execution_count": 155,
   "metadata": {},
   "outputs": [],
   "source": [
    "import time\n",
    "\n",
    "import numpy as np\n",
    "import torch\n",
    "import torch.nn as nn\n",
    "\n",
    "from sklearn.model_selection import train_test_split"
   ]
  },
  {
   "cell_type": "code",
   "execution_count": 156,
   "metadata": {},
   "outputs": [],
   "source": [
    "def parse_data(fpath):\n",
    "    data = np.genfromtxt(fpath, dtype=np.int64, skip_header=7)\n",
    "    X, y = data[:, :-1], data[:, -1]\n",
    "    return X, y"
   ]
  },
  {
   "cell_type": "code",
   "execution_count": 197,
   "metadata": {},
   "outputs": [],
   "source": [
    "fpath = \"/Users/ChesterHuynh/classes/dldo467/dldo-hw/hw2/stable6.txt\"\n",
    "\n",
    "X, y = parse_data(fpath)\n",
    "y -= 1  # Index classes starting at 0 for CrossEntropyLoss() to work\n",
    "\n",
    "X_train, X_test, y_train, y_test = train_test_split(X, y, test_size=0.3)"
   ]
  },
  {
   "cell_type": "code",
   "execution_count": 198,
   "metadata": {},
   "outputs": [],
   "source": [
    "class My_Net(nn.Module): \n",
    "    def __init__(self, n_features, n_classes, n_neurons=10):\n",
    "        super(My_Net, self).__init__()\n",
    "        #feed forward layers\n",
    "        self.layer_1 = nn.Linear(n_features, num_neurons)\n",
    "        self.layer_2 = nn.Linear(num_neurons, num_neurons)\n",
    "        self.layer_3 = nn.Linear(num_neurons, n_classes)\n",
    "\n",
    "        #activations\n",
    "        self.relu = nn.ReLU()\n",
    "        self.softmax = nn.Softmax(dim=1)\n",
    "        \n",
    "    def forward(self, input_data):\n",
    "        out = self.layer_1(input_data)\n",
    "        out = self.relu(out)\n",
    "        out = self.layer_2(out)\n",
    "        out = self.relu(out)\n",
    "        out = self.layer_3(out)\n",
    "        out = self.softmax(out)\n",
    "        return out"
   ]
  },
  {
   "cell_type": "code",
   "execution_count": 217,
   "metadata": {},
   "outputs": [],
   "source": [
    "n_classes = len(np.unique(y))\n",
    "n_features = X_train.shape[1]\n",
    "\n",
    "# Hyperparameters to tune\n",
    "n_neurons = 20\n",
    "lr = 1e-2\n",
    "\n",
    "if \"stable4\" in fpath:\n",
    "    batch_size = 1\n",
    "elif \"stable5\" in fpath:\n",
    "    batch_size = 32\n",
    "elif \"stable6\" in fpath:\n",
    "    batch_size = 64"
   ]
  },
  {
   "cell_type": "code",
   "execution_count": null,
   "metadata": {},
   "outputs": [],
   "source": [
    "net=My_Net(n_features, n_classes, n_neurons=n_neurons)\n",
    "\n",
    "# Standard cross entropy loss for multi-classification tasks\n",
    "loss=nn.CrossEntropyLoss()\n",
    "\n",
    "# Define the optimizer. Here we use Adam optimizer.\n",
    "opt=torch.optim.Adam(net.parameters(), lr=lr)"
   ]
  },
  {
   "cell_type": "code",
   "execution_count": 218,
   "metadata": {},
   "outputs": [],
   "source": [
    "Xtrain = torch.Tensor(X_train)\n",
    "Xtest = torch.Tensor(X_test)\n",
    "ytrain = torch.LongTensor(y_train)\n",
    "ytest = torch.LongTensor(y_test)"
   ]
  },
  {
   "cell_type": "code",
   "execution_count": 219,
   "metadata": {},
   "outputs": [],
   "source": [
    "train = torch.utils.data.TensorDataset(Xtrain, ytrain)\n",
    "test = torch.utils.data.TensorDataset(Xtest, ytest)\n",
    "\n",
    "train_loader = torch.utils.data.DataLoader(train, batch_size=batch_size, num_workers=2)\n",
    "test_loader = torch.utils.data.DataLoader(test, batch_size=batch_size, shuffle=False, num_workers=2)"
   ]
  },
  {
   "cell_type": "code",
   "execution_count": 220,
   "metadata": {},
   "outputs": [],
   "source": [
    "#initialize the network using Xavier initialization.\n",
    "def weights_init(m):\n",
    "    if isinstance(m, nn.Conv2d) or isinstance(m, nn.Linear):\n",
    "        nn.init.xavier_uniform_(m.weight.data)"
   ]
  },
  {
   "cell_type": "code",
   "execution_count": 221,
   "metadata": {},
   "outputs": [
    {
     "data": {
      "text/plain": [
       "My_Net(\n",
       "  (layer_1): Linear(in_features=15, out_features=20, bias=True)\n",
       "  (layer_2): Linear(in_features=20, out_features=20, bias=True)\n",
       "  (layer_3): Linear(in_features=20, out_features=6, bias=True)\n",
       "  (relu): ReLU()\n",
       "  (softmax): Softmax(dim=1)\n",
       ")"
      ]
     },
     "execution_count": 221,
     "metadata": {},
     "output_type": "execute_result"
    }
   ],
   "source": [
    "net.apply(weights_init)"
   ]
  },
  {
   "cell_type": "code",
   "execution_count": 222,
   "metadata": {},
   "outputs": [],
   "source": [
    "def train_eval(verbose=1):\n",
    "    correct = 0\n",
    "    total = 0\n",
    "    loss_sum = 0\n",
    "    num_batches = 0\n",
    "    for inputs, labels in train_loader:\n",
    "        outputs = net(inputs)\n",
    "        predicted = torch.argmax(outputs, dim=1)\n",
    "        total += labels.size(0)\n",
    "        correct += (predicted.int() == labels.int()).sum()\n",
    "        loss_sum  += loss(outputs,labels).item()\n",
    "        num_batches += 1\n",
    "\n",
    "    if verbose:\n",
    "        print('Train accuracy: %f %%' % (100 * correct.item() / total))\n",
    "    return loss_sum/num_batches, correct.item() / total\n",
    "\n",
    "def test_eval(verbose=1):\n",
    "    correct = 0\n",
    "    total = 0\n",
    "    loss_sum = 0\n",
    "    num_batches = 0\n",
    "    for inputs, labels in test_loader:\n",
    "        outputs = net(inputs)\n",
    "        predicted = torch.argmax(outputs, dim=1)\n",
    "        total += labels.size(0)\n",
    "        correct += (predicted.int() == labels.int()).sum()\n",
    "        loss_sum  += loss(outputs,labels).item()\n",
    "        num_batches += 1\n",
    "\n",
    "    if verbose:\n",
    "        print('Test accuracy: %f %%' % (100 * correct.item() / total))\n",
    "    return loss_sum/num_batches, correct.item() / total"
   ]
  },
  {
   "cell_type": "code",
   "execution_count": 223,
   "metadata": {},
   "outputs": [
    {
     "name": "stdout",
     "output_type": "stream",
     "text": [
      "In epoch 1 : \n",
      "Train accuracy: 66.774208 %\n",
      "Test accuracy: 66.330994 %\n",
      "Time lapse: 0.990000 secs\n",
      "In epoch 2 : \n",
      "Train accuracy: 67.083751 %\n",
      "Test accuracy: 66.514088 %\n",
      "Time lapse: 0.930000 secs\n",
      "In epoch 3 : \n",
      "Train accuracy: 72.154161 %\n",
      "Test accuracy: 71.539009 %\n",
      "Time lapse: 0.940000 secs\n",
      "In epoch 4 : \n",
      "Train accuracy: 73.741117 %\n",
      "Test accuracy: 72.627403 %\n",
      "Time lapse: 0.930000 secs\n",
      "In epoch 5 : \n",
      "Train accuracy: 74.809260 %\n",
      "Test accuracy: 73.705625 %\n",
      "Time lapse: 0.980000 secs\n",
      "In epoch 6 : \n",
      "Train accuracy: 74.879016 %\n",
      "Test accuracy: 74.122673 %\n",
      "Time lapse: 0.960000 secs\n",
      "In epoch 7 : \n",
      "Train accuracy: 75.716092 %\n",
      "Test accuracy: 74.712644 %\n",
      "Time lapse: 0.950000 secs\n",
      "In epoch 8 : \n",
      "Train accuracy: 75.389109 %\n",
      "Test accuracy: 74.478690 %\n",
      "Time lapse: 0.930000 secs\n",
      "In epoch 9 : \n",
      "Train accuracy: 75.968958 %\n",
      "Test accuracy: 75.068660 %\n",
      "Time lapse: 0.970000 secs\n",
      "In epoch 10 : \n",
      "Train accuracy: 76.356978 %\n",
      "Test accuracy: 75.261927 %\n",
      "Time lapse: 0.980000 secs\n",
      "In epoch 11 : \n",
      "Train accuracy: 76.513929 %\n",
      "Test accuracy: 75.455193 %\n",
      "Time lapse: 0.960000 secs\n",
      "In epoch 12 : \n",
      "Train accuracy: 76.670881 %\n",
      "Test accuracy: 75.658631 %\n",
      "Time lapse: 0.980000 secs\n",
      "In epoch 13 : \n",
      "Train accuracy: 76.644723 %\n",
      "Test accuracy: 75.577256 %\n",
      "Time lapse: 0.960000 secs\n",
      "In epoch 14 : \n",
      "Train accuracy: 76.915028 %\n",
      "Test accuracy: 76.014648 %\n",
      "Time lapse: 1.090000 secs\n",
      "In epoch 15 : \n",
      "Train accuracy: 77.002223 %\n",
      "Test accuracy: 76.218086 %\n",
      "Time lapse: 0.940000 secs\n",
      "In epoch 16 : \n",
      "Train accuracy: 76.875790 %\n",
      "Test accuracy: 75.902757 %\n",
      "Time lapse: 0.950000 secs\n",
      "In epoch 17 : \n",
      "Train accuracy: 77.385883 %\n",
      "Test accuracy: 76.401180 %\n",
      "Time lapse: 0.950000 secs\n",
      "In epoch 18 : \n",
      "Train accuracy: 77.128657 %\n",
      "Test accuracy: 76.350320 %\n",
      "Time lapse: 0.940000 secs\n",
      "In epoch 19 : \n",
      "Train accuracy: 77.342285 %\n",
      "Test accuracy: 76.421524 %\n",
      "Time lapse: 0.940000 secs\n",
      "In epoch 20 : \n",
      "Train accuracy: 77.547194 %\n",
      "Test accuracy: 76.675821 %\n",
      "Time lapse: 0.950000 secs\n",
      "In epoch 21 : \n",
      "Train accuracy: 77.769543 %\n",
      "Test accuracy: 76.716509 %\n",
      "Time lapse: 0.950000 secs\n",
      "In epoch 22 : \n",
      "Train accuracy: 77.717225 %\n",
      "Test accuracy: 76.797884 %\n",
      "Time lapse: 0.950000 secs\n",
      "In epoch 23 : \n",
      "Train accuracy: 77.237651 %\n",
      "Test accuracy: 76.289289 %\n",
      "Time lapse: 1.050000 secs\n",
      "In epoch 24 : \n",
      "Train accuracy: 78.222959 %\n",
      "Test accuracy: 77.377683 %\n",
      "Time lapse: 1.030000 secs\n",
      "In epoch 25 : \n",
      "Train accuracy: 78.292715 %\n",
      "Test accuracy: 77.235276 %\n",
      "Time lapse: 0.970000 secs\n"
     ]
    }
   ],
   "source": [
    "epochs = 25;\n",
    "train_loss_store = []\n",
    "train_acc_store = []\n",
    "test_loss_store = []\n",
    "test_acc_store = []\n",
    "\n",
    "for epoch in range(epochs):\n",
    "    time1 = time.time()\n",
    "    print('In epoch %i : '%(epoch+1))\n",
    "    for i, (feat, label) in enumerate(train_loader, 0):\n",
    "        #set the gradients to zero initially for each batch\n",
    "        opt.zero_grad()\n",
    "        outputs = net(feat)\n",
    "        l = loss(outputs, label)\n",
    "        l.backward()\n",
    "        opt.step()\n",
    "    \n",
    "    l_temp, acc_temp = train_eval()\n",
    "    train_loss_store.append(l_temp)\n",
    "    train_acc_store.append(acc_temp)\n",
    "\n",
    "    l_temp, acc_temp = test_eval()\n",
    "    test_loss_store.append(l_temp)\n",
    "    test_acc_store.append(acc_temp)\n",
    "\n",
    "    time2 = time.time()\n",
    "    print(\"Time lapse: %f secs\" %round((time2-time1), 2))"
   ]
  },
  {
   "cell_type": "code",
   "execution_count": null,
   "metadata": {},
   "outputs": [],
   "source": []
  }
 ],
 "metadata": {
  "kernelspec": {
   "display_name": "“dldo”",
   "language": "python",
   "name": "dldo"
  },
  "language_info": {
   "codemirror_mode": {
    "name": "ipython",
    "version": 3
   },
   "file_extension": ".py",
   "mimetype": "text/x-python",
   "name": "python",
   "nbconvert_exporter": "python",
   "pygments_lexer": "ipython3",
   "version": "3.7.6"
  }
 },
 "nbformat": 4,
 "nbformat_minor": 4
}
